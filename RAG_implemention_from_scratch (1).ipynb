{
 "cells": [
  {
   "cell_type": "code",
   "execution_count": 1,
   "id": "4302c5e2-252c-4818-94b9-385946a8f689",
   "metadata": {},
   "outputs": [],
   "source": [
    "corpus_of_documents = ['Mental health is just as important as physical health.', \n",
    "                       'Practicing mindfulness can help reduce stress and anxiety.', \n",
    "                       'Therapy provides a safe space to explore your emotions.', \n",
    "                       'Regular sleep improves emotional regulation and mental clarity.',\n",
    "                       'Talking to someone you trust can lighten emotional burdens.', \n",
    "                       'Exercise releases endorphins that boost your mood naturally.',\n",
    "                       'Meditation has been shown to reduce symptoms of depression.', \n",
    "                       'Setting boundaries is key to maintaining mental well-being.', \n",
    "                       'Journaling can help you process your thoughts and feelings.',\n",
    "                       'Seeking help is a sign of strength, not weakness.']"
   ]
  },
  {
   "cell_type": "code",
   "execution_count": 2,
   "id": "accfae49-bb1c-4d77-8dbb-cdfa774bad95",
   "metadata": {},
   "outputs": [
    {
     "data": {
      "text/plain": [
       "['Mental health is just as important as physical health.',\n",
       " 'Practicing mindfulness can help reduce stress and anxiety.',\n",
       " 'Therapy provides a safe space to explore your emotions.',\n",
       " 'Regular sleep improves emotional regulation and mental clarity.',\n",
       " 'Talking to someone you trust can lighten emotional burdens.',\n",
       " 'Exercise releases endorphins that boost your mood naturally.',\n",
       " 'Meditation has been shown to reduce symptoms of depression.',\n",
       " 'Setting boundaries is key to maintaining mental well-being.',\n",
       " 'Journaling can help you process your thoughts and feelings.',\n",
       " 'Seeking help is a sign of strength, not weakness.']"
      ]
     },
     "execution_count": 2,
     "metadata": {},
     "output_type": "execute_result"
    }
   ],
   "source": [
    "corpus_of_documents"
   ]
  },
  {
   "cell_type": "code",
   "execution_count": 4,
   "id": "fef6ff5b-b037-4522-8dac-931436e1cdee",
   "metadata": {},
   "outputs": [],
   "source": [
    "user_query = \"how to reduce anxiety naturally\"\n"
   ]
  },
  {
   "cell_type": "code",
   "execution_count": 5,
   "id": "599add66-5f25-4400-ab93-825e840e68bb",
   "metadata": {},
   "outputs": [],
   "source": [
    "document = \"Practicing mindfulness can help reduce stress and anxiety.\"\n"
   ]
  },
  {
   "cell_type": "code",
   "execution_count": 6,
   "id": "050a8579-e41e-4d60-ac22-ca319a0517bf",
   "metadata": {},
   "outputs": [],
   "source": [
    "from collections import Counter\n",
    "import math\n"
   ]
  },
  {
   "cell_type": "code",
   "execution_count": 7,
   "id": "b3334664-8c90-4df9-ad2f-6bb70088577b",
   "metadata": {},
   "outputs": [],
   "source": [
    "user_tokens = user_query.lower().split(\" \")"
   ]
  },
  {
   "cell_type": "code",
   "execution_count": 8,
   "id": "8ced4404-1e64-4661-88d7-a16e77b9237c",
   "metadata": {},
   "outputs": [
    {
     "data": {
      "text/plain": [
       "['how', 'to', 'reduce', 'anxiety', 'naturally']"
      ]
     },
     "execution_count": 8,
     "metadata": {},
     "output_type": "execute_result"
    }
   ],
   "source": [
    "user_tokens"
   ]
  },
  {
   "cell_type": "code",
   "execution_count": 9,
   "id": "b388d959-b5e0-4723-8709-340fc77198a1",
   "metadata": {},
   "outputs": [],
   "source": [
    "document_tokens=document.lower().split(\" \")"
   ]
  },
  {
   "cell_type": "code",
   "execution_count": 10,
   "id": "d25f4fd4-402a-4f2d-8182-d95795dff80b",
   "metadata": {},
   "outputs": [],
   "source": [
    "user_counter=Counter(user_tokens)"
   ]
  },
  {
   "cell_type": "code",
   "execution_count": 11,
   "id": "e7e599e0-29c1-45e3-8732-e88db0053ec8",
   "metadata": {},
   "outputs": [
    {
     "data": {
      "text/plain": [
       "Counter({'how': 1, 'to': 1, 'reduce': 1, 'anxiety': 1, 'naturally': 1})"
      ]
     },
     "execution_count": 11,
     "metadata": {},
     "output_type": "execute_result"
    }
   ],
   "source": [
    "user_counter"
   ]
  },
  {
   "cell_type": "code",
   "execution_count": 12,
   "id": "ef5a3a30-b3e3-4900-b575-ff1c135e172d",
   "metadata": {},
   "outputs": [],
   "source": [
    "document_counter=Counter(document_tokens)"
   ]
  },
  {
   "cell_type": "code",
   "execution_count": 13,
   "id": "8bbc482e-494e-44df-b262-7e4c9f892a18",
   "metadata": {},
   "outputs": [
    {
     "data": {
      "text/plain": [
       "Counter({'practicing': 1,\n",
       "         'mindfulness': 1,\n",
       "         'can': 1,\n",
       "         'help': 1,\n",
       "         'reduce': 1,\n",
       "         'stress': 1,\n",
       "         'and': 1,\n",
       "         'anxiety.': 1})"
      ]
     },
     "execution_count": 13,
     "metadata": {},
     "output_type": "execute_result"
    }
   ],
   "source": [
    "document_counter"
   ]
  },
  {
   "cell_type": "code",
   "execution_count": 14,
   "id": "6031b198-a0f4-477f-a9d5-558955a49ea5",
   "metadata": {},
   "outputs": [
    {
     "name": "stdout",
     "output_type": "stream",
     "text": [
      "1\n",
      "1\n",
      "1\n",
      "1\n",
      "1\n"
     ]
    }
   ],
   "source": [
    "for token in user_counter.keys():\n",
    "    print(user_counter[token])"
   ]
  },
  {
   "cell_type": "code",
   "execution_count": 15,
   "id": "64bfebf9-4b1f-4a04-b1a2-c3832043b4e7",
   "metadata": {},
   "outputs": [],
   "source": [
    "mylist=[]\n",
    "for token in user_counter.keys() & document_counter.keys():\n",
    "    mylist.append(user_counter[token] * document_counter[token])"
   ]
  },
  {
   "cell_type": "code",
   "execution_count": 16,
   "id": "46cd9c60-a99b-4415-b14b-a770c0706bec",
   "metadata": {},
   "outputs": [
    {
     "data": {
      "text/plain": [
       "[1]"
      ]
     },
     "execution_count": 16,
     "metadata": {},
     "output_type": "execute_result"
    }
   ],
   "source": [
    "mylist"
   ]
  },
  {
   "cell_type": "code",
   "execution_count": 17,
   "id": "7c726c13-444e-4aad-aa44-ccb26e4d44f9",
   "metadata": {},
   "outputs": [],
   "source": [
    "dot_prod=sum(mylist)"
   ]
  },
  {
   "cell_type": "code",
   "execution_count": 18,
   "id": "0cbcf812-3b70-43a0-9a55-7d63e97accaf",
   "metadata": {},
   "outputs": [],
   "source": [
    "user_magnitude = math.sqrt(sum(user_counter[token] ** 2 for token in user_counter))"
   ]
  },
  {
   "cell_type": "code",
   "execution_count": 19,
   "id": "48d1031d-f9ec-45a0-951c-6df105348705",
   "metadata": {},
   "outputs": [
    {
     "data": {
      "text/plain": [
       "2.23606797749979"
      ]
     },
     "execution_count": 19,
     "metadata": {},
     "output_type": "execute_result"
    }
   ],
   "source": [
    "user_magnitude\n",
    "\n",
    "\n"
   ]
  },
  {
   "cell_type": "code",
   "execution_count": 20,
   "id": "5c3f307b-3974-41b4-923d-a698ee80c077",
   "metadata": {},
   "outputs": [],
   "source": [
    "document_magnitude = math.sqrt(sum(document_counter[token] ** 2 for token in document_counter))"
   ]
  },
  {
   "cell_type": "code",
   "execution_count": 21,
   "id": "7c63a0ea-b77f-4c0a-95b1-de70478930bd",
   "metadata": {},
   "outputs": [
    {
     "data": {
      "text/plain": [
       "2.8284271247461903"
      ]
     },
     "execution_count": 21,
     "metadata": {},
     "output_type": "execute_result"
    }
   ],
   "source": [
    "document_magnitude"
   ]
  },
  {
   "cell_type": "code",
   "execution_count": 22,
   "id": "2c3acb2c-91c6-4069-a996-72a03e506103",
   "metadata": {},
   "outputs": [],
   "source": [
    "similarity=(dot_prod)/(user_magnitude*document_magnitude)"
   ]
  },
  {
   "cell_type": "code",
   "execution_count": 23,
   "id": "22756720-8eab-4e30-a96f-7beb725f3b44",
   "metadata": {},
   "outputs": [
    {
     "data": {
      "text/plain": [
       "0.15811388300841897"
      ]
     },
     "execution_count": 23,
     "metadata": {},
     "output_type": "execute_result"
    }
   ],
   "source": [
    "similarity"
   ]
  },
  {
   "cell_type": "code",
   "execution_count": 24,
   "id": "1f43dd26-a12a-4555-93cf-a6ab0b7e2e80",
   "metadata": {},
   "outputs": [],
   "source": [
    "def cosine_similarity(query, document):\n",
    "    # Tokenize and convert to lowercase\n",
    "    query_tokens = query.lower().split(\" \")\n",
    "    document_tokens = document.lower().split(\" \")\n",
    "\n",
    "    # Create Counters for query and document\n",
    "    query_counter = Counter(query_tokens)\n",
    "    document_counter = Counter(document_tokens)\n",
    "\n",
    "    # Calculate dot product\n",
    "    dot_product = sum(query_counter[token] * document_counter[token] for token in query_counter.keys() & document_counter.keys())\n",
    "\n",
    "    # Calculate magnitudes\n",
    "    query_magnitude = math.sqrt(sum(query_counter[token] ** 2 for token in query_counter))\n",
    "    document_magnitude = math.sqrt(sum(document_counter[token] ** 2 for token in document_counter))\n",
    "\n",
    "    # Calculate cosine similarity\n",
    "    similarity = dot_product / (query_magnitude * document_magnitude) if query_magnitude * document_magnitude != 0 else 0\n",
    "\n",
    "    return similarity"
   ]
  },
  {
   "cell_type": "code",
   "execution_count": 25,
   "id": "a228438b-d8eb-46d5-9242-48eecb15a627",
   "metadata": {},
   "outputs": [],
   "source": [
    "def return_response(query, corpus):\n",
    "    similarities = []\n",
    "    for doc in corpus:\n",
    "        similarity = cosine_similarity(query, doc)\n",
    "        similarities.append(similarity)\n",
    "    return corpus_of_documents[similarities.index(max(similarities))]"
   ]
  },
  {
   "cell_type": "code",
   "execution_count": 26,
   "id": "5c8ac6fc-1978-49f8-97e6-a6ccd17425bd",
   "metadata": {},
   "outputs": [
    {
     "data": {
      "text/plain": [
       "['Mental health is just as important as physical health.',\n",
       " 'Practicing mindfulness can help reduce stress and anxiety.',\n",
       " 'Therapy provides a safe space to explore your emotions.',\n",
       " 'Regular sleep improves emotional regulation and mental clarity.',\n",
       " 'Talking to someone you trust can lighten emotional burdens.',\n",
       " 'Exercise releases endorphins that boost your mood naturally.',\n",
       " 'Meditation has been shown to reduce symptoms of depression.',\n",
       " 'Setting boundaries is key to maintaining mental well-being.',\n",
       " 'Journaling can help you process your thoughts and feelings.',\n",
       " 'Seeking help is a sign of strength, not weakness.']"
      ]
     },
     "execution_count": 26,
     "metadata": {},
     "output_type": "execute_result"
    }
   ],
   "source": [
    "corpus_of_documents"
   ]
  },
  {
   "cell_type": "code",
   "execution_count": 46,
   "id": "5f25145d-e601-4ad8-8fe0-342e9b067fd7",
   "metadata": {},
   "outputs": [],
   "source": [
    "user_input=\"how to reduce depression?.\""
   ]
  },
  {
   "cell_type": "code",
   "execution_count": 47,
   "id": "fd3b32e9-1566-4323-920d-a1649a15e123",
   "metadata": {},
   "outputs": [],
   "source": [
    "relevant_document=return_response(user_input,corpus_of_documents)"
   ]
  },
  {
   "cell_type": "code",
   "execution_count": 48,
   "id": "fd2cfda0-00af-4a59-bed1-84e0b83de78c",
   "metadata": {},
   "outputs": [
    {
     "data": {
      "text/plain": [
       "'Meditation has been shown to reduce symptoms of depression.'"
      ]
     },
     "execution_count": 48,
     "metadata": {},
     "output_type": "execute_result"
    }
   ],
   "source": [
    "relevant_document"
   ]
  },
  {
   "cell_type": "code",
   "execution_count": 36,
   "id": "f676927e-4232-49d2-aff9-6c5b0f166c5d",
   "metadata": {},
   "outputs": [],
   "source": [
    "# how you can configure llm in your local system\n",
    "# LLAMA2\n",
    "#hugging face(we are not going to use this one)"
   ]
  },
  {
   "cell_type": "code",
   "execution_count": 37,
   "id": "fd2e2587-5bc7-4dd9-bf12-8b1aefdd4074",
   "metadata": {},
   "outputs": [],
   "source": [
    "# augument this response by using llama2 model\n"
   ]
  },
  {
   "cell_type": "code",
   "execution_count": 49,
   "id": "75ab7a1f-2477-41b7-a14b-91bf1da018e9",
   "metadata": {},
   "outputs": [],
   "source": [
    "import requests\n",
    "import json\n",
    "full_response = []"
   ]
  },
  {
   "cell_type": "code",
   "execution_count": 51,
   "id": "7be0efe3-738b-4700-a33c-13b6bd5e3c43",
   "metadata": {},
   "outputs": [
    {
     "name": "stdout",
     "output_type": "stream",
     "text": [
      "Meditation can help reduce symptoms of depression. Try practicing mindfulness meditation daily for 10-15 minutes to experience its benefits.\n"
     ]
    }
   ],
   "source": [
    "full_response = []\n",
    "prompt = \"\"\"\n",
    "You are a bot that makes recommendations for activities. You answer in very short sentences and do not include extra information.\n",
    "This is the recommended activity: {relevant_document}\n",
    "The user input is: {user_input}\n",
    "Compile a recommendation to the user based on the recommended activity and the user input.\n",
    "\"\"\"\n",
    "\n",
    "url = 'http://localhost:11434/api/generate'\n",
    "\n",
    "\n",
    "data = {\n",
    "    \"model\": \"llama2\",\n",
    "    \"prompt\": prompt.format(user_input=user_input, relevant_document=relevant_document)\n",
    "}\n",
    "\n",
    "headers = {'Content-Type': 'application/json'}\n",
    "\n",
    "response = requests.post(url, data=json.dumps(data), headers=headers, stream=False)\n",
    "\n",
    "\n",
    "try:\n",
    "    for line in response.iter_lines():\n",
    "        # filter out keep-alive new lines\n",
    "        if line:\n",
    "            decoded_line = json.loads(line.decode('utf-8'))\n",
    "           # print(decoded_line['response'])  # uncomment to results, token by token\n",
    "            full_response.append(decoded_line['response'])\n",
    "finally:\n",
    "    response.close()\n",
    "    \n",
    "    \n",
    "print(''.join(full_response))"
   ]
  },
  {
   "cell_type": "code",
   "execution_count": null,
   "id": "051b9c3b-1243-42d4-9c22-7ef1bde59fd3",
   "metadata": {},
   "outputs": [],
   "source": []
  }
 ],
 "metadata": {
  "kernelspec": {
   "display_name": "Python 3 (ipykernel)",
   "language": "python",
   "name": "python3"
  },
  "language_info": {
   "codemirror_mode": {
    "name": "ipython",
    "version": 3
   },
   "file_extension": ".py",
   "mimetype": "text/x-python",
   "name": "python",
   "nbconvert_exporter": "python",
   "pygments_lexer": "ipython3",
   "version": "3.12.7"
  }
 },
 "nbformat": 4,
 "nbformat_minor": 5
}
